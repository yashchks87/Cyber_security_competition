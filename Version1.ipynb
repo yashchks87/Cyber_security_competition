{
 "cells": [
  {
   "cell_type": "code",
   "execution_count": 2,
   "metadata": {},
   "outputs": [],
   "source": [
    "import pandas as pd\n",
    "import numpy as np\n",
    "import sklearn as sk\n",
    "import matplotlib.pyplot as plt"
   ]
  },
  {
   "cell_type": "code",
   "execution_count": 3,
   "metadata": {},
   "outputs": [],
   "source": [
    "spamdf=pd.read_csv(\"./FinalDataset/Spam.csv\")\n",
    "to_Dict = spamdf.isnull().sum().to_dict()"
   ]
  },
  {
   "cell_type": "markdown",
   "metadata": {},
   "source": [
    "# Creating for spam dataset"
   ]
  },
  {
   "cell_type": "code",
   "execution_count": 4,
   "metadata": {},
   "outputs": [
    {
     "data": {
      "text/plain": [
       "{'Querylength': 0,\n",
       " 'domain_token_count': 0,\n",
       " 'path_token_count': 0,\n",
       " 'avgdomaintokenlen': 0,\n",
       " 'longdomaintokenlen': 0,\n",
       " 'avgpathtokenlen': 12,\n",
       " 'tld': 0,\n",
       " 'charcompvowels': 0,\n",
       " 'charcompace': 0,\n",
       " 'ldl_url': 0,\n",
       " 'ldl_domain': 0,\n",
       " 'ldl_path': 0,\n",
       " 'ldl_filename': 0,\n",
       " 'ldl_getArg': 0,\n",
       " 'dld_url': 0,\n",
       " 'dld_domain': 0,\n",
       " 'dld_path': 0,\n",
       " 'dld_filename': 0,\n",
       " 'dld_getArg': 0,\n",
       " 'urlLen': 0,\n",
       " 'domainlength': 0,\n",
       " 'pathLength': 0,\n",
       " 'subDirLen': 0,\n",
       " 'fileNameLen': 0,\n",
       " 'this.fileExtLen': 0,\n",
       " 'ArgLen': 0,\n",
       " 'pathurlRatio': 0,\n",
       " 'ArgUrlRatio': 0,\n",
       " 'argDomanRatio': 0,\n",
       " 'domainUrlRatio': 0,\n",
       " 'pathDomainRatio': 0,\n",
       " 'argPathRatio': 0,\n",
       " 'executable': 0,\n",
       " 'isPortEighty': 0,\n",
       " 'NumberofDotsinURL': 0,\n",
       " 'ISIpAddressInDomainName': 0,\n",
       " 'CharacterContinuityRate': 0,\n",
       " 'LongestVariableValue': 0,\n",
       " 'URL_DigitCount': 0,\n",
       " 'host_DigitCount': 0,\n",
       " 'Directory_DigitCount': 0,\n",
       " 'File_name_DigitCount': 0,\n",
       " 'Extension_DigitCount': 0,\n",
       " 'Query_DigitCount': 0,\n",
       " 'URL_Letter_Count': 0,\n",
       " 'host_letter_count': 0,\n",
       " 'Directory_LetterCount': 0,\n",
       " 'Filename_LetterCount': 0,\n",
       " 'Extension_LetterCount': 0,\n",
       " 'Query_LetterCount': 0,\n",
       " 'LongestPathTokenLength': 0,\n",
       " 'Domain_LongestWordLength': 0,\n",
       " 'Path_LongestWordLength': 0,\n",
       " 'sub-Directory_LongestWordLength': 0,\n",
       " 'Arguments_LongestWordLength': 0,\n",
       " 'URL_sensitiveWord': 0,\n",
       " 'URLQueries_variable': 0,\n",
       " 'spcharUrl': 0,\n",
       " 'delimeter_Domain': 0,\n",
       " 'delimeter_path': 0,\n",
       " 'delimeter_Count': 0,\n",
       " 'NumberRate_URL': 0,\n",
       " 'NumberRate_Domain': 0,\n",
       " 'NumberRate_DirectoryName': 0,\n",
       " 'NumberRate_FileName': 0,\n",
       " 'NumberRate_Extension': 4882,\n",
       " 'NumberRate_AfterPath': 1,\n",
       " 'SymbolCount_URL': 0,\n",
       " 'SymbolCount_Domain': 0,\n",
       " 'SymbolCount_Directoryname': 0,\n",
       " 'SymbolCount_FileName': 0,\n",
       " 'SymbolCount_Extension': 0,\n",
       " 'SymbolCount_Afterpath': 0,\n",
       " 'Entropy_URL': 0,\n",
       " 'Entropy_Domain': 0,\n",
       " 'Entropy_DirectoryName': 1879,\n",
       " 'Entropy_Filename': 166,\n",
       " 'Entropy_Extension': 3,\n",
       " 'Entropy_Afterpath': 3,\n",
       " 'URL_Type_obf_Type': 0}"
      ]
     },
     "execution_count": 4,
     "metadata": {},
     "output_type": "execute_result"
    }
   ],
   "source": [
    "to_Dict"
   ]
  },
  {
   "cell_type": "code",
   "execution_count": 5,
   "metadata": {},
   "outputs": [],
   "source": [
    "import seaborn as sns"
   ]
  },
  {
   "cell_type": "code",
   "execution_count": 30,
   "metadata": {},
   "outputs": [],
   "source": [
    "from sklearn.feature_selection import mutual_info_classif\n",
    "# We can not use chi square here because in chi square method we should not have any values which are negative.\n",
    "# So, to use chi square even if there is some negative values then we have to normalize data first.\n",
    "# Or other option is if negative values are that important then we can use some other methods like:\n",
    "# https://stackoverflow.com/questions/25792012/feature-selection-using-scikit-learn?answertab=active#tab-top\n",
    "# from sklearn.feature_selection import chi2"
   ]
  },
  {
   "cell_type": "code",
   "execution_count": 37,
   "metadata": {},
   "outputs": [
    {
     "data": {
      "text/plain": [
       "array([0.20528773, 0.56134212, 0.06214262, 0.41638799, 0.13347046,\n",
       "       0.55795128, 0.08796122, 0.0850517 , 0.13048891, 0.0039385 ,\n",
       "       0.12752193, 0.01691138, 0.14845641, 0.09633615, 0.00980882,\n",
       "       0.09758586, 0.00919191, 0.13285373, 0.23414931, 0.26318759,\n",
       "       0.21781282, 0.2170358 , 0.07498784, 0.        , 0.2389893 ,\n",
       "       0.41016437, 0.46429731, 0.40976766, 0.36472718, 0.38343126,\n",
       "       0.46322628, 0.        , 0.00323136, 0.5782367 , 0.00328372,\n",
       "       0.52584662, 0.25570912, 0.15824117, 0.04629917, 0.07045212,\n",
       "       0.07982288, 0.2301482 , 0.20729438, 0.13647648, 0.25449708,\n",
       "       0.17740321, 0.13524577, 0.12166441, 0.20194611, 0.20680237,\n",
       "       0.15421958, 0.0518102 , 0.06909831, 0.19222205, 0.00472252,\n",
       "       0.15982313, 0.02841522, 0.01394392, 0.17388203, 0.16459534,\n",
       "       0.25631912, 0.06951399, 0.1780632 , 0.30944502, 0.30753757,\n",
       "       0.55907983, 0.06978885, 0.29125382, 0.21543118, 0.17204937,\n",
       "       0.14548718, 0.51717711])"
      ]
     },
     "execution_count": 37,
     "metadata": {},
     "output_type": "execute_result"
    }
   ],
   "source": [
    "top_features = mutual_info_classif(independent_columns, target_column)\n",
    "(top_features)"
   ]
  },
  {
   "cell_type": "code",
   "execution_count": 9,
   "metadata": {},
   "outputs": [],
   "source": [
    "# It does not accept null values, so before doing feature selectiion always remove null values.\n",
    "# List ot columns to use:\n",
    "spamdf"
   ]
  },
  {
   "cell_type": "code",
   "execution_count": 35,
   "metadata": {},
   "outputs": [
    {
     "data": {
      "text/plain": [
       "72"
      ]
     },
     "execution_count": 35,
     "metadata": {},
     "output_type": "execute_result"
    }
   ],
   "source": [
    "len(independent_columns.columns)"
   ]
  },
  {
   "cell_type": "code",
   "execution_count": null,
   "metadata": {},
   "outputs": [],
   "source": []
  },
  {
   "cell_type": "code",
   "execution_count": null,
   "metadata": {},
   "outputs": [],
   "source": []
  },
  {
   "cell_type": "code",
   "execution_count": null,
   "metadata": {},
   "outputs": [],
   "source": []
  },
  {
   "cell_type": "code",
   "execution_count": null,
   "metadata": {},
   "outputs": [],
   "source": []
  }
 ],
 "metadata": {
  "kernelspec": {
   "display_name": "Python 3",
   "language": "python",
   "name": "python3"
  },
  "language_info": {
   "codemirror_mode": {
    "name": "ipython",
    "version": 3
   },
   "file_extension": ".py",
   "mimetype": "text/x-python",
   "name": "python",
   "nbconvert_exporter": "python",
   "pygments_lexer": "ipython3",
   "version": "3.7.3"
  }
 },
 "nbformat": 4,
 "nbformat_minor": 2
}
