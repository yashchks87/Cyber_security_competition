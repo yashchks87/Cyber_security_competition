{
 "cells": [
  {
   "cell_type": "code",
   "execution_count": 1,
   "metadata": {},
   "outputs": [],
   "source": [
    "# Importing modules\n",
    "import pandas as pd\n",
    "import numpy as np\n",
    "import matplotlib.pyplot as plt"
   ]
  },
  {
   "cell_type": "code",
   "execution_count": 2,
   "metadata": {},
   "outputs": [],
   "source": [
    "# Importing data files\n",
    "malwareFile = pd.read_csv('./FinalDataset/Malware.csv')"
   ]
  },
  {
   "cell_type": "code",
   "execution_count": 4,
   "metadata": {},
   "outputs": [
    {
     "data": {
      "text/plain": [
       "Querylength                           0\n",
       "domain_token_count                    0\n",
       "path_token_count                      0\n",
       "avgdomaintokenlen                     0\n",
       "longdomaintokenlen                    0\n",
       "avgpathtokenlen                      11\n",
       "tld                                   0\n",
       "charcompvowels                        0\n",
       "charcompace                           0\n",
       "ldl_url                               0\n",
       "ldl_domain                            0\n",
       "ldl_path                              0\n",
       "ldl_filename                          0\n",
       "ldl_getArg                            0\n",
       "dld_url                               0\n",
       "dld_domain                            0\n",
       "dld_path                              0\n",
       "dld_filename                          0\n",
       "dld_getArg                            0\n",
       "urlLen                                0\n",
       "domainlength                          0\n",
       "pathLength                            0\n",
       "subDirLen                             0\n",
       "fileNameLen                           0\n",
       "this.fileExtLen                       0\n",
       "ArgLen                                0\n",
       "pathurlRatio                          0\n",
       "ArgUrlRatio                           0\n",
       "argDomanRatio                         0\n",
       "domainUrlRatio                        0\n",
       "                                   ... \n",
       "LongestPathTokenLength                0\n",
       "Domain_LongestWordLength              0\n",
       "Path_LongestWordLength                0\n",
       "sub-Directory_LongestWordLength       0\n",
       "Arguments_LongestWordLength           0\n",
       "URL_sensitiveWord                     0\n",
       "URLQueries_variable                   0\n",
       "spcharUrl                             0\n",
       "delimeter_Domain                      0\n",
       "delimeter_path                        0\n",
       "delimeter_Count                       0\n",
       "NumberRate_URL                        0\n",
       "NumberRate_Domain                     0\n",
       "NumberRate_DirectoryName              1\n",
       "NumberRate_FileName                   1\n",
       "NumberRate_Extension               5927\n",
       "NumberRate_AfterPath                  1\n",
       "SymbolCount_URL                       0\n",
       "SymbolCount_Domain                    0\n",
       "SymbolCount_Directoryname             0\n",
       "SymbolCount_FileName                  0\n",
       "SymbolCount_Extension                 0\n",
       "SymbolCount_Afterpath                 0\n",
       "Entropy_URL                           0\n",
       "Entropy_Domain                        0\n",
       "Entropy_DirectoryName              1880\n",
       "Entropy_Filename                    162\n",
       "Entropy_Extension                     6\n",
       "Entropy_Afterpath                     0\n",
       "URL_Type_obf_Type                     0\n",
       "Length: 80, dtype: int64"
      ]
     },
     "execution_count": 4,
     "metadata": {},
     "output_type": "execute_result"
    }
   ],
   "source": [
    "# Check for null values by column wise\n",
    "malwareFile.isna().sum()"
   ]
  },
  {
   "cell_type": "code",
   "execution_count": 4,
   "metadata": {},
   "outputs": [
    {
     "data": {
      "text/plain": [
       "14493"
      ]
     },
     "execution_count": 4,
     "metadata": {},
     "output_type": "execute_result"
    }
   ],
   "source": [
    "len(malwareFile)"
   ]
  },
  {
   "cell_type": "code",
   "execution_count": 5,
   "metadata": {},
   "outputs": [],
   "source": [
    "# Data cleaning with replacing null values with mean-by-column\n",
    "malwareFile['Entropy_DirectoryName'] = malwareFile['Entropy_DirectoryName'].fillna(malwareFile['Entropy_DirectoryName'].mean())\n",
    "malwareFile['Entropy_Filename'] = malwareFile['Entropy_Filename'].fillna(malwareFile['Entropy_Filename'].mean())\n",
    "malwareFile['Entropy_Extension'] = malwareFile['Entropy_Extension'].fillna(malwareFile['Entropy_Extension'].mean())\n",
    "malwareFile['NumberRate_Extension'] = malwareFile['NumberRate_Extension'].fillna(malwareFile['NumberRate_Extension'].mean())\n",
    "malwareFile['avgpathtokenlen'] = malwareFile['avgpathtokenlen'].fillna(malwareFile['avgpathtokenlen'].mean())\n",
    "malwareFile['NumberRate_DirectoryName'] = malwareFile['NumberRate_DirectoryName'].fillna(malwareFile['NumberRate_DirectoryName'].mean())\n",
    "malwareFile['NumberRate_FileName'] = malwareFile['NumberRate_FileName'].fillna(malwareFile['NumberRate_FileName'].mean())\n",
    "malwareFile['NumberRate_AfterPath'] = malwareFile['NumberRate_AfterPath'].fillna(malwareFile['NumberRate_AfterPath'].mean())"
   ]
  },
  {
   "cell_type": "code",
   "execution_count": 6,
   "metadata": {},
   "outputs": [],
   "source": [
    "# Divison of data by columns\n",
    "# x1 is for independent columns, whilee y1 is target column which is type of attack.\n",
    "x1 = malwareFile.iloc[:,0:79]\n",
    "y1 = malwareFile.iloc[:,-1]"
   ]
  },
  {
   "cell_type": "code",
   "execution_count": 8,
   "metadata": {},
   "outputs": [
    {
     "name": "stderr",
     "output_type": "stream",
     "text": [
      "/anaconda3/lib/python3.7/site-packages/sklearn/ensemble/forest.py:246: FutureWarning: The default value of n_estimators will change from 10 in version 0.20 to 100 in 0.22.\n",
      "  \"10 in version 0.20 to 100 in 0.22.\", FutureWarning)\n"
     ]
    },
    {
     "data": {
      "image/png": "[encoded data removed]",
      "text/plain": [
       "<Figure size 432x288 with 1 Axes>"
      ]
     },
     "metadata": {
      "needs_background": "light"
     },
     "output_type": "display_data"
    }
   ],
   "source": [
    "# Feature selection \n",
    "import matplotlib.pyplot as plt\n",
    "from sklearn.ensemble import ExtraTreesClassifier\n",
    "model=ExtraTreesClassifier()\n",
    "model.fit(x1,y1)\n",
    "feature_imp= pd.Series(model.feature_importances_,index=x1.columns)\n",
    "# Extract best 10 features from all 79 features\n",
    "feature_imp = feature_imp.nlargest(10)\n",
    "feature_imp.nlargest(10).plot(kind='barh')\n",
    "plt.show()"
   ]
  },
  {
   "cell_type": "code",
   "execution_count": 9,
   "metadata": {},
   "outputs": [
    {
     "data": {
      "text/plain": [
       "dict_keys(['SymbolCount_Domain', 'NumberRate_Domain', 'domain_token_count', 'tld', 'host_letter_count', 'CharacterContinuityRate', 'host_DigitCount', 'argPathRatio', 'delimeter_path', 'spcharUrl'])"
      ]
     },
     "execution_count": 9,
     "metadata": {},
     "output_type": "execute_result"
    }
   ],
   "source": [
    "# As everytime features are changing on every run \n",
    "# Stroring feeatures in ts variable.\n",
    "ts = (feature_imp.nlargest(10).to_dict())\n",
    "ts = ts.keys()\n",
    "ts"
   ]
  },
  {
   "cell_type": "code",
   "execution_count": 10,
   "metadata": {},
   "outputs": [
    {
     "name": "stderr",
     "output_type": "stream",
     "text": [
      "/anaconda3/lib/python3.7/site-packages/sklearn/ensemble/forest.py:246: FutureWarning: The default value of n_estimators will change from 10 in version 0.20 to 100 in 0.22.\n",
      "  \"10 in version 0.20 to 100 in 0.22.\", FutureWarning)\n"
     ]
    },
    {
     "data": {
      "text/plain": [
       "0.984130634774609"
      ]
     },
     "execution_count": 10,
     "metadata": {},
     "output_type": "execute_result"
    }
   ],
   "source": [
    "# Final columns for training and testing for model\n",
    "columns_to_keep = x1[ts]\n",
    "from sklearn.model_selection import train_test_split\n",
    "# TODO: What is random state and how it's value is chosen?\n",
    "features_train,features_test,y_train,y_test = train_test_split(columns_to_keep,y1,test_size=0.3,random_state=66)\n",
    "from sklearn.ensemble import RandomForestClassifier\n",
    "# Intiate the model\n",
    "rfc = RandomForestClassifier()\n",
    "rfc.fit(features_train,y_train)\n",
    "score = rfc.score(features_test, y_test)\n",
    "score"
   ]
  }
 ],
 "metadata": {
  "kernelspec": {
   "display_name": "Python 3",
   "language": "python",
   "name": "python3"
  },
  "language_info": {
   "codemirror_mode": {
    "name": "ipython",
    "version": 3
   },
   "file_extension": ".py",
   "mimetype": "text/x-python",
   "name": "python",
   "nbconvert_exporter": "python",
   "pygments_lexer": "ipython3",
   "version": "3.7.3"
  }
 },
 "nbformat": 4,
 "nbformat_minor": 4
}
