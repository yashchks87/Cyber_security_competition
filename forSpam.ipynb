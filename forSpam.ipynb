{
 "cells": [
  {
   "cell_type": "code",
   "execution_count": 1,
   "metadata": {},
   "outputs": [],
   "source": [
    "import pandas as pd\n",
    "import numpy as np"
   ]
  },
  {
   "cell_type": "code",
   "execution_count": 2,
   "metadata": {},
   "outputs": [],
   "source": [
    "spamData= pd.read_csv('./FinalDataset/Spam.csv')"
   ]
  },
  {
   "cell_type": "code",
   "execution_count": 4,
   "metadata": {},
   "outputs": [],
   "source": [
    "a = spamData.isnull().sum().to_dict()"
   ]
  },
  {
   "cell_type": "code",
   "execution_count": 5,
   "metadata": {},
   "outputs": [
    {
     "data": {
      "text/plain": [
       "{'Querylength': 0,\n",
       " 'domain_token_count': 0,\n",
       " 'path_token_count': 0,\n",
       " 'avgdomaintokenlen': 0,\n",
       " 'longdomaintokenlen': 0,\n",
       " 'avgpathtokenlen': 12,\n",
       " 'tld': 0,\n",
       " 'charcompvowels': 0,\n",
       " 'charcompace': 0,\n",
       " 'ldl_url': 0,\n",
       " 'ldl_domain': 0,\n",
       " 'ldl_path': 0,\n",
       " 'ldl_filename': 0,\n",
       " 'ldl_getArg': 0,\n",
       " 'dld_url': 0,\n",
       " 'dld_domain': 0,\n",
       " 'dld_path': 0,\n",
       " 'dld_filename': 0,\n",
       " 'dld_getArg': 0,\n",
       " 'urlLen': 0,\n",
       " 'domainlength': 0,\n",
       " 'pathLength': 0,\n",
       " 'subDirLen': 0,\n",
       " 'fileNameLen': 0,\n",
       " 'this.fileExtLen': 0,\n",
       " 'ArgLen': 0,\n",
       " 'pathurlRatio': 0,\n",
       " 'ArgUrlRatio': 0,\n",
       " 'argDomanRatio': 0,\n",
       " 'domainUrlRatio': 0,\n",
       " 'pathDomainRatio': 0,\n",
       " 'argPathRatio': 0,\n",
       " 'executable': 0,\n",
       " 'isPortEighty': 0,\n",
       " 'NumberofDotsinURL': 0,\n",
       " 'ISIpAddressInDomainName': 0,\n",
       " 'CharacterContinuityRate': 0,\n",
       " 'LongestVariableValue': 0,\n",
       " 'URL_DigitCount': 0,\n",
       " 'host_DigitCount': 0,\n",
       " 'Directory_DigitCount': 0,\n",
       " 'File_name_DigitCount': 0,\n",
       " 'Extension_DigitCount': 0,\n",
       " 'Query_DigitCount': 0,\n",
       " 'URL_Letter_Count': 0,\n",
       " 'host_letter_count': 0,\n",
       " 'Directory_LetterCount': 0,\n",
       " 'Filename_LetterCount': 0,\n",
       " 'Extension_LetterCount': 0,\n",
       " 'Query_LetterCount': 0,\n",
       " 'LongestPathTokenLength': 0,\n",
       " 'Domain_LongestWordLength': 0,\n",
       " 'Path_LongestWordLength': 0,\n",
       " 'sub-Directory_LongestWordLength': 0,\n",
       " 'Arguments_LongestWordLength': 0,\n",
       " 'URL_sensitiveWord': 0,\n",
       " 'URLQueries_variable': 0,\n",
       " 'spcharUrl': 0,\n",
       " 'delimeter_Domain': 0,\n",
       " 'delimeter_path': 0,\n",
       " 'delimeter_Count': 0,\n",
       " 'NumberRate_URL': 0,\n",
       " 'NumberRate_Domain': 0,\n",
       " 'NumberRate_DirectoryName': 0,\n",
       " 'NumberRate_FileName': 0,\n",
       " 'NumberRate_Extension': 4882,\n",
       " 'NumberRate_AfterPath': 1,\n",
       " 'SymbolCount_URL': 0,\n",
       " 'SymbolCount_Domain': 0,\n",
       " 'SymbolCount_Directoryname': 0,\n",
       " 'SymbolCount_FileName': 0,\n",
       " 'SymbolCount_Extension': 0,\n",
       " 'SymbolCount_Afterpath': 0,\n",
       " 'Entropy_URL': 0,\n",
       " 'Entropy_Domain': 0,\n",
       " 'Entropy_DirectoryName': 1879,\n",
       " 'Entropy_Filename': 166,\n",
       " 'Entropy_Extension': 3,\n",
       " 'Entropy_Afterpath': 3,\n",
       " 'URL_Type_obf_Type': 0}"
      ]
     },
     "execution_count": 5,
     "metadata": {},
     "output_type": "execute_result"
    }
   ],
   "source": [
    "a"
   ]
  },
  {
   "cell_type": "code",
   "execution_count": 8,
   "metadata": {},
   "outputs": [],
   "source": [
    "spamData['avgpathtokenlen'] = spamData['avgpathtokenlen'].fillna(spamData['avgpathtokenlen'].mean())\n",
    "spamData['NumberRate_Extension'] = spamData['NumberRate_Extension'].fillna(spamData['NumberRate_Extension'].mean())\n",
    "spamData['NumberRate_AfterPath'] = spamData['NumberRate_AfterPath'].fillna(spamData['NumberRate_AfterPath'].mean())\n",
    "spamData['Entropy_DirectoryName'] = spamData['Entropy_DirectoryName'].fillna(spamData['Entropy_DirectoryName'].mean())\n",
    "spamData['Entropy_Filename'] = spamData['Entropy_Filename'].fillna(spamData['Entropy_Filename'].mean())\n",
    "spamData['Entropy_Extension'] = spamData['Entropy_Extension'].fillna(spamData['Entropy_Extension'].mean())\n",
    "spamData['Entropy_Afterpath'] = spamData['Entropy_Afterpath'].fillna(spamData['Entropy_Afterpath'].mean())"
   ]
  },
  {
   "cell_type": "code",
   "execution_count": 9,
   "metadata": {},
   "outputs": [],
   "source": [
    "x = spamData.iloc[:,0:79]\n",
    "y = spamData.iloc[:,-1]"
   ]
  },
  {
   "cell_type": "code",
   "execution_count": 42,
   "metadata": {},
   "outputs": [
    {
     "name": "stderr",
     "output_type": "stream",
     "text": [
      "/anaconda3/lib/python3.7/site-packages/sklearn/ensemble/forest.py:246: FutureWarning: The default value of n_estimators will change from 10 in version 0.20 to 100 in 0.22.\n",
      "  \"10 in version 0.20 to 100 in 0.22.\", FutureWarning)\n"
     ]
    },
    {
     "data": {
      "image/png": "[encoded data removed]",
      "text/plain": [
       "<Figure size 432x288 with 1 Axes>"
      ]
     },
     "metadata": {
      "needs_background": "light"
     },
     "output_type": "display_data"
    }
   ],
   "source": [
    "import matplotlib.pyplot as plt\n",
    "from sklearn.ensemble import ExtraTreesClassifier\n",
    "model=ExtraTreesClassifier()\n",
    "model.fit(x,y)\n",
    "feature_imp= pd.Series(model.feature_importances_,index=x.columns)\n",
    "feature_imp.nlargest(10).plot(kind='barh')\n",
    "plt.show()\n"
   ]
  },
  {
   "cell_type": "code",
   "execution_count": 45,
   "metadata": {},
   "outputs": [
    {
     "name": "stderr",
     "output_type": "stream",
     "text": [
      "/anaconda3/lib/python3.7/site-packages/sklearn/ensemble/forest.py:246: FutureWarning: The default value of n_estimators will change from 10 in version 0.20 to 100 in 0.22.\n",
      "  \"10 in version 0.20 to 100 in 0.22.\", FutureWarning)\n"
     ]
    }
   ],
   "source": [
    "columns_to_keep = x[['SymbolCount_Domain', 'tld', 'NumberofDotsinURL', 'NumberRate_AfterPath', 'domainlength', 'Entropy_Afterpath', 'SymbolCount_URL', 'ArgUrlRatio', 'CharacterContinuityRate']]\n",
    "from sklearn.model_selection import train_test_split\n",
    "features_train,features_test,y_train,y_test = train_test_split(columns_to_keep,y,test_size=0.3,random_state=66)\n",
    "from sklearn.ensemble import RandomForestClassifier\n",
    "rfc = RandomForestClassifier()\n",
    "rfc.fit(features_train,y_train)\n",
    "score = rfc.score(features_test, y_test)"
   ]
  },
  {
   "cell_type": "code",
   "execution_count": 47,
   "metadata": {},
   "outputs": [
    {
     "data": {
      "text/plain": [
       "0.9990791896869244"
      ]
     },
     "execution_count": 47,
     "metadata": {},
     "output_type": "execute_result"
    }
   ],
   "source": [
    "score"
   ]
  },
  {
   "cell_type": "code",
   "execution_count": null,
   "metadata": {},
   "outputs": [],
   "source": []
  }
 ],
 "metadata": {
  "kernelspec": {
   "display_name": "Python 3",
   "language": "python",
   "name": "python3"
  },
  "language_info": {
   "codemirror_mode": {
    "name": "ipython",
    "version": 3
   },
   "file_extension": ".py",
   "mimetype": "text/x-python",
   "name": "python",
   "nbconvert_exporter": "python",
   "pygments_lexer": "ipython3",
   "version": "3.7.3"
  }
 },
 "nbformat": 4,
 "nbformat_minor": 2
}
